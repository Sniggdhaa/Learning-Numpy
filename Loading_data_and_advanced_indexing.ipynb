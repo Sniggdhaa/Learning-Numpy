{
  "nbformat": 4,
  "nbformat_minor": 0,
  "metadata": {
    "colab": {
      "name": "Loading data and advanced indexing.ipynb",
      "provenance": [],
      "collapsed_sections": []
    },
    "kernelspec": {
      "name": "python3",
      "display_name": "Python 3"
    }
  },
  "cells": [
    {
      "cell_type": "markdown",
      "metadata": {
        "id": "VDgubcLLEH8F"
      },
      "source": [
        "# LOADING DATA INTO NUMPY ARRAY\r\n",
        "---"
      ]
    },
    {
      "cell_type": "code",
      "metadata": {
        "id": "6vEC4hl1D8JN"
      },
      "source": [
        "import numpy as np"
      ],
      "execution_count": 1,
      "outputs": []
    },
    {
      "cell_type": "code",
      "metadata": {
        "id": "P_EgTZJdEqkf"
      },
      "source": [
        "# Load data from a text file, with missing values handled as specified.\r\n",
        "data = np.genfromtxt('file.txt',delimiter=',')\r\n",
        "data = data.astype('int32') # float by default"
      ],
      "execution_count": null,
      "outputs": []
    },
    {
      "cell_type": "markdown",
      "metadata": {
        "id": "Q6TsBDRQFR-m"
      },
      "source": [
        "Now `data` can be used as any numpy array."
      ]
    },
    {
      "cell_type": "code",
      "metadata": {
        "id": "a22IisEhEqqm"
      },
      "source": [
        "# Creating boolean masks\r\n",
        "data > 50"
      ],
      "execution_count": null,
      "outputs": []
    },
    {
      "cell_type": "code",
      "metadata": {
        "id": "CrUgVp1hEqxF"
      },
      "source": [
        "data [[data <0, axis=0]]"
      ],
      "execution_count": null,
      "outputs": []
    },
    {
      "cell_type": "markdown",
      "metadata": {
        "id": "IRzHDyoHGloH"
      },
      "source": [
        "# ADVANCED INDEXING IN NUMPY ARRAYS\r\n",
        "---"
      ]
    },
    {
      "cell_type": "code",
      "metadata": {
        "colab": {
          "base_uri": "https://localhost:8080/"
        },
        "id": "vfVmgOSHGHyO",
        "outputId": "15092c67-42d4-452e-a8bf-1137c3ca15ad"
      },
      "source": [
        "A = np.array([\r\n",
        "              [1,10,1,99,99],\r\n",
        "              [6,7,11,9,1],\r\n",
        "              [1,2,3,12,5],\r\n",
        "              [1,2,3,4,13],\r\n",
        "              [4,2,5,99,99],\r\n",
        "              [5,3,2,99,99]\r\n",
        "])\r\n",
        "A"
      ],
      "execution_count": 7,
      "outputs": [
        {
          "output_type": "execute_result",
          "data": {
            "text/plain": [
              "array([[ 1, 10,  1, 99, 99],\n",
              "       [ 6,  7, 11,  9,  1],\n",
              "       [ 1,  2,  3, 12,  5],\n",
              "       [ 1,  2,  3,  4, 13],\n",
              "       [ 4,  2,  5, 99, 99],\n",
              "       [ 5,  3,  2, 99, 99]])"
            ]
          },
          "metadata": {
            "tags": []
          },
          "execution_count": 7
        }
      ]
    },
    {
      "cell_type": "code",
      "metadata": {
        "colab": {
          "base_uri": "https://localhost:8080/"
        },
        "id": "jHkxCFf5G0U2",
        "outputId": "1a9c2d4d-6b57-4463-d434-bee7271628b7"
      },
      "source": [
        "# Output [10,11,12,13]\r\n",
        "A[[0,1,2,3],[1,2,3,4]]"
      ],
      "execution_count": 6,
      "outputs": [
        {
          "output_type": "execute_result",
          "data": {
            "text/plain": [
              "array([10, 11, 12, 13])"
            ]
          },
          "metadata": {
            "tags": []
          },
          "execution_count": 6
        }
      ]
    },
    {
      "cell_type": "code",
      "metadata": {
        "colab": {
          "base_uri": "https://localhost:8080/"
        },
        "id": "-C-gLSiHHHMe",
        "outputId": "a336ccec-c360-480e-d6c6-2c38beb1ad0d"
      },
      "source": [
        "# Output [99,99,99,99,99,99]\r\n",
        "A[[0,4,5],3:]"
      ],
      "execution_count": 9,
      "outputs": [
        {
          "output_type": "execute_result",
          "data": {
            "text/plain": [
              "array([[99, 99],\n",
              "       [99, 99],\n",
              "       [99, 99]])"
            ]
          },
          "metadata": {
            "tags": []
          },
          "execution_count": 9
        }
      ]
    }
  ]
}