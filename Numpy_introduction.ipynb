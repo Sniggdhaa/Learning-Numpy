{
  "nbformat": 4,
  "nbformat_minor": 0,
  "metadata": {
    "colab": {
      "name": "Numpy_introduction.ipynb",
      "provenance": [],
      "collapsed_sections": [
        "qMjtk382S9Ur",
        "2el7EckHoqFT"
      ],
      "toc_visible": true
    },
    "kernelspec": {
      "name": "python3",
      "display_name": "Python 3"
    }
  },
  "cells": [
    {
      "cell_type": "markdown",
      "metadata": {
        "id": "qCHvEN5t20w0"
      },
      "source": [
        "<font color='BLUE'>MY NOTES FROM [**'DATA ANALYSIS WITH PYTHON'**](https://www.freecodecamp.org/learn/data-analysis-with-python/data-analysis-with-python-course) COURSE ON FREECODECAMP</font>"
      ]
    },
    {
      "cell_type": "markdown",
      "metadata": {
        "id": "qMjtk382S9Ur"
      },
      "source": [
        "# **NUMPY INTRODUCTION**\r\n",
        "***\r\n",
        "* It's a numeric processing library used for scientific computing with python\r\n",
        "* Often it isn't worked with directly\r\n",
        "* Libraries like pandas and matplotlib that are frequently used are built on top of Numpy"
      ]
    },
    {
      "cell_type": "code",
      "metadata": {
        "id": "o3YmeAuHZcF5"
      },
      "source": [
        "import numpy as np"
      ],
      "execution_count": 94,
      "outputs": []
    },
    {
      "cell_type": "markdown",
      "metadata": {
        "id": "U1u3KpzgZC78"
      },
      "source": [
        "# **WHY DO YOU NEED NUMPY?**\r\n",
        "***\r\n",
        "* EFFICIENT MEMORY HANDLING\r\n",
        "* FASTER COMPUTATION AND BETTER PERFORMANCE\r\n",
        "* LEAST WASTAGE OF MEMORY\r\n"
      ]
    },
    {
      "cell_type": "markdown",
      "metadata": {
        "id": "sjTQvPtfZPMG"
      },
      "source": [
        "# **Creating arrays using Numpy**\r\n",
        "***\r\n"
      ]
    },
    {
      "cell_type": "markdown",
      "metadata": {
        "id": "7sEuJk7Jcwu0"
      },
      "source": [
        "## **1-D ARRAYS**"
      ]
    },
    {
      "cell_type": "code",
      "metadata": {
        "colab": {
          "base_uri": "https://localhost:8080/"
        },
        "id": "kPYFEMOPZkBO",
        "outputId": "6c7a6355-9652-4cec-b357-5c50db6b6a83"
      },
      "source": [
        "# Creating 1-D array\r\n",
        "a = np.array ([1,2,3])\r\n",
        "a"
      ],
      "execution_count": 95,
      "outputs": [
        {
          "output_type": "execute_result",
          "data": {
            "text/plain": [
              "array([1, 2, 3])"
            ]
          },
          "metadata": {
            "tags": []
          },
          "execution_count": 95
        }
      ]
    },
    {
      "cell_type": "code",
      "metadata": {
        "colab": {
          "base_uri": "https://localhost:8080/"
        },
        "id": "tr8m7MA3Z7k6",
        "outputId": "ad01945a-ccf0-4abc-c16e-aca12f6f54cc"
      },
      "source": [
        "# slicing\r\n",
        "a[::-1]"
      ],
      "execution_count": 96,
      "outputs": [
        {
          "output_type": "execute_result",
          "data": {
            "text/plain": [
              "array([3, 2, 1])"
            ]
          },
          "metadata": {
            "tags": []
          },
          "execution_count": 96
        }
      ]
    },
    {
      "cell_type": "code",
      "metadata": {
        "colab": {
          "base_uri": "https://localhost:8080/"
        },
        "id": "W16cXVhXaAUF",
        "outputId": "f287c498-b9be-4688-a165-1f104e59dbc2"
      },
      "source": [
        "# Multi indexing\r\n",
        "a[0], a[2]"
      ],
      "execution_count": 97,
      "outputs": [
        {
          "output_type": "execute_result",
          "data": {
            "text/plain": [
              "(1, 3)"
            ]
          },
          "metadata": {
            "tags": []
          },
          "execution_count": 97
        }
      ]
    },
    {
      "cell_type": "code",
      "metadata": {
        "colab": {
          "base_uri": "https://localhost:8080/"
        },
        "id": "TP0uihhmaSmx",
        "outputId": "17dc29eb-c3e7-4ba1-e685-2d9957546858"
      },
      "source": [
        "# Multi indexing -- creates another numpy array\r\n",
        "a[[0,2]]"
      ],
      "execution_count": 98,
      "outputs": [
        {
          "output_type": "execute_result",
          "data": {
            "text/plain": [
              "array([1, 3])"
            ]
          },
          "metadata": {
            "tags": []
          },
          "execution_count": 98
        }
      ]
    },
    {
      "cell_type": "code",
      "metadata": {
        "colab": {
          "base_uri": "https://localhost:8080/"
        },
        "id": "BlMO48iLa1z4",
        "outputId": "31953bae-0a3a-448f-d1e0-1acfdded47f8"
      },
      "source": [
        "# Default is usually int64 data type for integers and float64 for floats\r\n",
        "a.dtype "
      ],
      "execution_count": 99,
      "outputs": [
        {
          "output_type": "execute_result",
          "data": {
            "text/plain": [
              "dtype('int64')"
            ]
          },
          "metadata": {
            "tags": []
          },
          "execution_count": 99
        }
      ]
    },
    {
      "cell_type": "code",
      "metadata": {
        "colab": {
          "base_uri": "https://localhost:8080/"
        },
        "id": "unTqlBjGa-_3",
        "outputId": "963a33ff-96f4-4818-c8aa-ea1cd1c91b9e"
      },
      "source": [
        "# Explicitly making array for 8-bits/1 Byte to save memory and have faster computation\r\n",
        "a = np.array([1,2,3], dtype = np.int8)\r\n",
        "a.dtype"
      ],
      "execution_count": 100,
      "outputs": [
        {
          "output_type": "execute_result",
          "data": {
            "text/plain": [
              "dtype('int8')"
            ]
          },
          "metadata": {
            "tags": []
          },
          "execution_count": 100
        }
      ]
    },
    {
      "cell_type": "code",
      "metadata": {
        "colab": {
          "base_uri": "https://localhost:8080/"
        },
        "id": "7kR46UC_bO20",
        "outputId": "b43e23f7-b97d-4a1a-ed88-c12c8c46c2b4"
      },
      "source": [
        "a = np.array([1,2,3], dtype = np.float)\r\n",
        "a"
      ],
      "execution_count": 101,
      "outputs": [
        {
          "output_type": "execute_result",
          "data": {
            "text/plain": [
              "array([1., 2., 3.])"
            ]
          },
          "metadata": {
            "tags": []
          },
          "execution_count": 101
        }
      ]
    },
    {
      "cell_type": "markdown",
      "metadata": {
        "id": "gbVL9bt-c37U"
      },
      "source": [
        "## **2-D ARRAYS**"
      ]
    },
    {
      "cell_type": "code",
      "metadata": {
        "colab": {
          "base_uri": "https://localhost:8080/"
        },
        "id": "OU4URbHwcFoO",
        "outputId": "24110a4e-13f6-45ab-92b2-5b212c79c38c"
      },
      "source": [
        "# Creating 2-D array\r\n",
        "b = np.array([\r\n",
        "              [1,2,3], \r\n",
        "              [3,2,1]\r\n",
        "])\r\n",
        "b"
      ],
      "execution_count": 102,
      "outputs": [
        {
          "output_type": "execute_result",
          "data": {
            "text/plain": [
              "array([[1, 2, 3],\n",
              "       [3, 2, 1]])"
            ]
          },
          "metadata": {
            "tags": []
          },
          "execution_count": 102
        }
      ]
    },
    {
      "cell_type": "code",
      "metadata": {
        "colab": {
          "base_uri": "https://localhost:8080/"
        },
        "id": "U4ygfTqccQK1",
        "outputId": "feaba13d-8f15-4b6d-f5c4-d19f23679072"
      },
      "source": [
        "# Size of array as (rows,columns)\r\n",
        "b.shape"
      ],
      "execution_count": 103,
      "outputs": [
        {
          "output_type": "execute_result",
          "data": {
            "text/plain": [
              "(2, 3)"
            ]
          },
          "metadata": {
            "tags": []
          },
          "execution_count": 103
        }
      ]
    },
    {
      "cell_type": "code",
      "metadata": {
        "colab": {
          "base_uri": "https://localhost:8080/"
        },
        "id": "nsLAW8WWccKs",
        "outputId": "90c33099-e486-4d87-fee7-f6425b86cc31"
      },
      "source": [
        "# Dimensions of array\r\n",
        "b.ndim"
      ],
      "execution_count": 104,
      "outputs": [
        {
          "output_type": "execute_result",
          "data": {
            "text/plain": [
              "2"
            ]
          },
          "metadata": {
            "tags": []
          },
          "execution_count": 104
        }
      ]
    },
    {
      "cell_type": "code",
      "metadata": {
        "colab": {
          "base_uri": "https://localhost:8080/"
        },
        "id": "u-dvbu6pcjRU",
        "outputId": "8de7b156-5230-484d-89b6-7255409f02aa"
      },
      "source": [
        "# Size of array/ Number of elements in array\r\n",
        "b.size"
      ],
      "execution_count": 105,
      "outputs": [
        {
          "output_type": "execute_result",
          "data": {
            "text/plain": [
              "6"
            ]
          },
          "metadata": {
            "tags": []
          },
          "execution_count": 105
        }
      ]
    },
    {
      "cell_type": "markdown",
      "metadata": {
        "id": "L5fKm4ePl97w"
      },
      "source": [
        "## **3-D ARRAYS**"
      ]
    },
    {
      "cell_type": "code",
      "metadata": {
        "colab": {
          "base_uri": "https://localhost:8080/"
        },
        "id": "j7pauUkCmFrE",
        "outputId": "3c88024e-477a-41d8-e616-cd58e929db5a"
      },
      "source": [
        "c = np.array([\r\n",
        "              [1,2,3],\r\n",
        "              [3,2,1],\r\n",
        "              [1,3,2]\r\n",
        "])\r\n",
        "c"
      ],
      "execution_count": 106,
      "outputs": [
        {
          "output_type": "execute_result",
          "data": {
            "text/plain": [
              "array([[1, 2, 3],\n",
              "       [3, 2, 1],\n",
              "       [1, 3, 2]])"
            ]
          },
          "metadata": {
            "tags": []
          },
          "execution_count": 106
        }
      ]
    },
    {
      "cell_type": "code",
      "metadata": {
        "colab": {
          "base_uri": "https://localhost:8080/"
        },
        "id": "SlWupVoFmOHh",
        "outputId": "50277473-cbea-48cb-8829-a6eb843891a8"
      },
      "source": [
        "# accessing multi dimensional array\r\n",
        "c[1]"
      ],
      "execution_count": 107,
      "outputs": [
        {
          "output_type": "execute_result",
          "data": {
            "text/plain": [
              "array([3, 2, 1])"
            ]
          },
          "metadata": {
            "tags": []
          },
          "execution_count": 107
        }
      ]
    },
    {
      "cell_type": "code",
      "metadata": {
        "colab": {
          "base_uri": "https://localhost:8080/"
        },
        "id": "myLoUf5hmYUY",
        "outputId": "9c62f86f-ac04-46e4-dfb6-fc6c492f0931"
      },
      "source": [
        "# indexing\r\n",
        "c[1][2]"
      ],
      "execution_count": 108,
      "outputs": [
        {
          "output_type": "execute_result",
          "data": {
            "text/plain": [
              "1"
            ]
          },
          "metadata": {
            "tags": []
          },
          "execution_count": 108
        }
      ]
    },
    {
      "cell_type": "code",
      "metadata": {
        "colab": {
          "base_uri": "https://localhost:8080/"
        },
        "id": "SBN-_qzKmkjf",
        "outputId": "dc9c8b05-5130-4dc4-cd9f-a4adf5e7f4ba"
      },
      "source": [
        "# indexing\r\n",
        "c[1,2]"
      ],
      "execution_count": 109,
      "outputs": [
        {
          "output_type": "execute_result",
          "data": {
            "text/plain": [
              "1"
            ]
          },
          "metadata": {
            "tags": []
          },
          "execution_count": 109
        }
      ]
    },
    {
      "cell_type": "code",
      "metadata": {
        "colab": {
          "base_uri": "https://localhost:8080/"
        },
        "id": "P7otYLlGmasv",
        "outputId": "9f7e981d-6e26-4353-a03b-d8609bbc799a"
      },
      "source": [
        "# Slicing\r\n",
        "c[1:3]"
      ],
      "execution_count": 110,
      "outputs": [
        {
          "output_type": "execute_result",
          "data": {
            "text/plain": [
              "array([[3, 2, 1],\n",
              "       [1, 3, 2]])"
            ]
          },
          "metadata": {
            "tags": []
          },
          "execution_count": 110
        }
      ]
    },
    {
      "cell_type": "code",
      "metadata": {
        "colab": {
          "base_uri": "https://localhost:8080/"
        },
        "id": "ow3Rf0J4mw-s",
        "outputId": "7a770b1d-29ef-4998-a7b1-fc4c25ac79b6"
      },
      "source": [
        "# Slicing and indexing\r\n",
        "c[:,:2]"
      ],
      "execution_count": 111,
      "outputs": [
        {
          "output_type": "execute_result",
          "data": {
            "text/plain": [
              "array([[1, 2],\n",
              "       [3, 2],\n",
              "       [1, 3]])"
            ]
          },
          "metadata": {
            "tags": []
          },
          "execution_count": 111
        }
      ]
    },
    {
      "cell_type": "code",
      "metadata": {
        "colab": {
          "base_uri": "https://localhost:8080/"
        },
        "id": "dWcIuuuonExU",
        "outputId": "60870375-bce9-4167-e3ab-dc7a7b336952"
      },
      "source": [
        "# Slicing and indexing\r\n",
        "c[:2,2:]"
      ],
      "execution_count": 112,
      "outputs": [
        {
          "output_type": "execute_result",
          "data": {
            "text/plain": [
              "array([[3],\n",
              "       [1]])"
            ]
          },
          "metadata": {
            "tags": []
          },
          "execution_count": 112
        }
      ]
    },
    {
      "cell_type": "code",
      "metadata": {
        "colab": {
          "base_uri": "https://localhost:8080/"
        },
        "id": "HA3qp2hdnQRw",
        "outputId": "b15b4970-8173-4590-fb21-38d804fbb659"
      },
      "source": [
        "# Reassigning rows\r\n",
        "c[1] = np.array([10,20,20])\r\n",
        "c"
      ],
      "execution_count": 113,
      "outputs": [
        {
          "output_type": "execute_result",
          "data": {
            "text/plain": [
              "array([[ 1,  2,  3],\n",
              "       [10, 20, 20],\n",
              "       [ 1,  3,  2]])"
            ]
          },
          "metadata": {
            "tags": []
          },
          "execution_count": 113
        }
      ]
    },
    {
      "cell_type": "code",
      "metadata": {
        "colab": {
          "base_uri": "https://localhost:8080/"
        },
        "id": "8FScateKnuEA",
        "outputId": "12afda25-e105-49b1-caed-e358067a06b6"
      },
      "source": [
        "# Reassigning columns\r\n",
        "c[:,2] = np.array([300,200,200])\r\n",
        "c"
      ],
      "execution_count": 114,
      "outputs": [
        {
          "output_type": "execute_result",
          "data": {
            "text/plain": [
              "array([[  1,   2, 300],\n",
              "       [ 10,  20, 200],\n",
              "       [  1,   3, 200]])"
            ]
          },
          "metadata": {
            "tags": []
          },
          "execution_count": 114
        }
      ]
    },
    {
      "cell_type": "markdown",
      "metadata": {
        "id": "2el7EckHoqFT"
      },
      "source": [
        "# **Summary statistics of a Numpy array**\r\n",
        "***"
      ]
    },
    {
      "cell_type": "code",
      "metadata": {
        "id": "2mhB_nqXo0wU"
      },
      "source": [
        "d = np.array([1,4,6,2,8,9,23,41])"
      ],
      "execution_count": 115,
      "outputs": []
    },
    {
      "cell_type": "code",
      "metadata": {
        "colab": {
          "base_uri": "https://localhost:8080/"
        },
        "id": "KGy1DdPuo9pO",
        "outputId": "6489828f-eed3-44bc-cc4b-37ae83c5bcfe"
      },
      "source": [
        "# Summary of all elements\r\n",
        "d.sum(), d.mean(), d.std(), d.var()"
      ],
      "execution_count": 116,
      "outputs": [
        {
          "output_type": "execute_result",
          "data": {
            "text/plain": [
              "(94, 11.75, 12.784267675545596, 163.4375)"
            ]
          },
          "metadata": {
            "tags": []
          },
          "execution_count": 116
        }
      ]
    },
    {
      "cell_type": "code",
      "metadata": {
        "id": "h4l0Bxv6q1qe"
      },
      "source": [
        "e = np.array([\r\n",
        "              [1,2,3],\r\n",
        "              [3,4,5],\r\n",
        "              [5,6,7]\r\n",
        "])"
      ],
      "execution_count": 117,
      "outputs": []
    },
    {
      "cell_type": "code",
      "metadata": {
        "colab": {
          "base_uri": "https://localhost:8080/"
        },
        "id": "rxutTvgUrAXl",
        "outputId": "21ccd38e-de45-4617-fce8-31e77eb37308"
      },
      "source": [
        "# Summary of all elements in an N-D array \r\n",
        "e.sum(), e.mean(), e.std(), e.var()"
      ],
      "execution_count": 118,
      "outputs": [
        {
          "output_type": "execute_result",
          "data": {
            "text/plain": [
              "(36, 4.0, 1.8257418583505538, 3.3333333333333335)"
            ]
          },
          "metadata": {
            "tags": []
          },
          "execution_count": 118
        }
      ]
    },
    {
      "cell_type": "code",
      "metadata": {
        "colab": {
          "base_uri": "https://localhost:8080/"
        },
        "id": "Gs1LeqQ_rYTP",
        "outputId": "8ed51451-832f-4b96-82c9-9b0a3de1007e"
      },
      "source": [
        "# Summary along a particular axis (0 for horizontal, 1 for vertical, can keep increasing as dimension increases)\r\n",
        "e.sum(axis=0), e.sum(axis=1)"
      ],
      "execution_count": 119,
      "outputs": [
        {
          "output_type": "execute_result",
          "data": {
            "text/plain": [
              "(array([ 9, 12, 15]), array([ 6, 12, 18]))"
            ]
          },
          "metadata": {
            "tags": []
          },
          "execution_count": 119
        }
      ]
    },
    {
      "cell_type": "markdown",
      "metadata": {
        "id": "klpkrXqZuZ5Z"
      },
      "source": [
        "# **Numpy operations**\r\n",
        "***"
      ]
    },
    {
      "cell_type": "code",
      "metadata": {
        "colab": {
          "base_uri": "https://localhost:8080/"
        },
        "id": "5f7jHQ8JuWjG",
        "outputId": "d4227969-f612-4c6e-9b2b-a5daf8e3a67f"
      },
      "source": [
        "# Creating a sample array\r\n",
        "a = np.arange(0,5,2)\r\n",
        "a"
      ],
      "execution_count": 120,
      "outputs": [
        {
          "output_type": "execute_result",
          "data": {
            "text/plain": [
              "array([0, 2, 4])"
            ]
          },
          "metadata": {
            "tags": []
          },
          "execution_count": 120
        }
      ]
    },
    {
      "cell_type": "code",
      "metadata": {
        "colab": {
          "base_uri": "https://localhost:8080/"
        },
        "id": "0oKpH1FTvnwZ",
        "outputId": "ca48e935-529c-4d77-8d95-3d56024ee6b5"
      },
      "source": [
        "# Adding 10 to all elementa of 'a' but not in actual array itself\r\n",
        "a+10"
      ],
      "execution_count": 121,
      "outputs": [
        {
          "output_type": "execute_result",
          "data": {
            "text/plain": [
              "array([10, 12, 14])"
            ]
          },
          "metadata": {
            "tags": []
          },
          "execution_count": 121
        }
      ]
    },
    {
      "cell_type": "code",
      "metadata": {
        "colab": {
          "base_uri": "https://localhost:8080/"
        },
        "id": "EKpT1AaVzfWr",
        "outputId": "11de8580-1b00-43d8-92a0-433a4b1a4721"
      },
      "source": [
        "# Unchanged array\r\n",
        "a"
      ],
      "execution_count": 122,
      "outputs": [
        {
          "output_type": "execute_result",
          "data": {
            "text/plain": [
              "array([0, 2, 4])"
            ]
          },
          "metadata": {
            "tags": []
          },
          "execution_count": 122
        }
      ]
    },
    {
      "cell_type": "code",
      "metadata": {
        "colab": {
          "base_uri": "https://localhost:8080/"
        },
        "id": "idnMoAbYvq6Y",
        "outputId": "e22a255f-20a6-4036-80e5-83fe1515f573"
      },
      "source": [
        "# Adding 20 to all elements of 'a' and saving changing in the array\r\n",
        "a += 20\r\n",
        "a"
      ],
      "execution_count": 123,
      "outputs": [
        {
          "output_type": "execute_result",
          "data": {
            "text/plain": [
              "array([20, 22, 24])"
            ]
          },
          "metadata": {
            "tags": []
          },
          "execution_count": 123
        }
      ]
    },
    {
      "cell_type": "code",
      "metadata": {
        "colab": {
          "base_uri": "https://localhost:8080/"
        },
        "id": "p71fyhbn0Wgv",
        "outputId": "062d1853-ac29-43bb-989b-b87f8ef0d0c0"
      },
      "source": [
        "# Array x Array multiplication; must have same shape\r\n",
        "b = np.array([0,2,1])\r\n",
        "a+b , a-b, a*b, b/a"
      ],
      "execution_count": 124,
      "outputs": [
        {
          "output_type": "execute_result",
          "data": {
            "text/plain": [
              "(array([20, 24, 25]),\n",
              " array([20, 20, 23]),\n",
              " array([ 0, 44, 24]),\n",
              " array([0.        , 0.09090909, 0.04166667]))"
            ]
          },
          "metadata": {
            "tags": []
          },
          "execution_count": 124
        }
      ]
    },
    {
      "cell_type": "code",
      "metadata": {
        "colab": {
          "base_uri": "https://localhost:8080/"
        },
        "id": "BbxPCn1t0sJ0",
        "outputId": "969ddd72-df29-4f64-df33-6f85b9506f62"
      },
      "source": [
        "# Masking\r\n",
        "b[[False,True,False]]"
      ],
      "execution_count": 125,
      "outputs": [
        {
          "output_type": "execute_result",
          "data": {
            "text/plain": [
              "array([2])"
            ]
          },
          "metadata": {
            "tags": []
          },
          "execution_count": 125
        }
      ]
    },
    {
      "cell_type": "code",
      "metadata": {
        "colab": {
          "base_uri": "https://localhost:8080/"
        },
        "id": "aUmAHbVr11nE",
        "outputId": "bea478a1-7ce6-439f-9a20-4619ea513b56"
      },
      "source": [
        "# Filtering \r\n",
        "b<2, b[b<2]"
      ],
      "execution_count": 126,
      "outputs": [
        {
          "output_type": "execute_result",
          "data": {
            "text/plain": [
              "(array([ True, False,  True]), array([0, 1]))"
            ]
          },
          "metadata": {
            "tags": []
          },
          "execution_count": 126
        }
      ]
    },
    {
      "cell_type": "code",
      "metadata": {
        "colab": {
          "base_uri": "https://localhost:8080/"
        },
        "id": "hoVgfdXr2IAt",
        "outputId": "d2449cd5-06d9-40a2-f923-3316a163b731"
      },
      "source": [
        "# Creating random array\r\n",
        "c = np.random.randint(50,100, size = (3,3))\r\n",
        "c"
      ],
      "execution_count": 127,
      "outputs": [
        {
          "output_type": "execute_result",
          "data": {
            "text/plain": [
              "array([[75, 85, 64],\n",
              "       [96, 90, 61],\n",
              "       [72, 95, 76]])"
            ]
          },
          "metadata": {
            "tags": []
          },
          "execution_count": 127
        }
      ]
    },
    {
      "cell_type": "code",
      "metadata": {
        "colab": {
          "base_uri": "https://localhost:8080/"
        },
        "id": "lHAXYhta2a2t",
        "outputId": "53e064ac-8eca-4e0e-a4e3-32fc5151ff3a"
      },
      "source": [
        "# Filtering\r\n",
        "c[c >75]"
      ],
      "execution_count": 128,
      "outputs": [
        {
          "output_type": "execute_result",
          "data": {
            "text/plain": [
              "array([85, 96, 90, 95, 76])"
            ]
          },
          "metadata": {
            "tags": []
          },
          "execution_count": 128
        }
      ]
    },
    {
      "cell_type": "code",
      "metadata": {
        "colab": {
          "base_uri": "https://localhost:8080/"
        },
        "id": "M1ihRcE84MBI",
        "outputId": "87954a18-5d9d-4e4a-c05f-d91d72f6c724"
      },
      "source": [
        "# Dot product\r\n",
        "c.dot(b), b.dot(c)"
      ],
      "execution_count": 129,
      "outputs": [
        {
          "output_type": "execute_result",
          "data": {
            "text/plain": [
              "(array([234, 241, 266]), array([264, 275, 198]))"
            ]
          },
          "metadata": {
            "tags": []
          },
          "execution_count": 129
        }
      ]
    },
    {
      "cell_type": "code",
      "metadata": {
        "colab": {
          "base_uri": "https://localhost:8080/"
        },
        "id": "BDE_NBZv4ivP",
        "outputId": "2e32123d-8da4-4af0-ffb1-80dd7a9ae68e"
      },
      "source": [
        "# Dot product \r\n",
        "b @ c, c @ b"
      ],
      "execution_count": 130,
      "outputs": [
        {
          "output_type": "execute_result",
          "data": {
            "text/plain": [
              "(array([264, 275, 198]), array([234, 241, 266]))"
            ]
          },
          "metadata": {
            "tags": []
          },
          "execution_count": 130
        }
      ]
    },
    {
      "cell_type": "code",
      "metadata": {
        "colab": {
          "base_uri": "https://localhost:8080/"
        },
        "id": "FfJxoC494ru9",
        "outputId": "59514ad2-ebee-4d68-acc5-9a86a35a23c3"
      },
      "source": [
        "# Transpose of array\r\n",
        "c.T"
      ],
      "execution_count": 131,
      "outputs": [
        {
          "output_type": "execute_result",
          "data": {
            "text/plain": [
              "array([[75, 96, 72],\n",
              "       [85, 90, 95],\n",
              "       [64, 61, 76]])"
            ]
          },
          "metadata": {
            "tags": []
          },
          "execution_count": 131
        }
      ]
    },
    {
      "cell_type": "code",
      "metadata": {
        "colab": {
          "base_uri": "https://localhost:8080/"
        },
        "id": "D9SLdb7s46FX",
        "outputId": "cd9906e2-de1d-43ec-ebe9-2e79e15528f7"
      },
      "source": [
        "# Sum of squares\r\n",
        "np.sum(b**2)"
      ],
      "execution_count": 132,
      "outputs": [
        {
          "output_type": "execute_result",
          "data": {
            "text/plain": [
              "5"
            ]
          },
          "metadata": {
            "tags": []
          },
          "execution_count": 132
        }
      ]
    },
    {
      "cell_type": "markdown",
      "metadata": {
        "id": "g5-JyVAB6gAV"
      },
      "source": [
        "### Creating random arrays"
      ]
    },
    {
      "cell_type": "code",
      "metadata": {
        "colab": {
          "base_uri": "https://localhost:8080/"
        },
        "id": "Mxb2_ufj50Xf",
        "outputId": "a73516b2-8c3c-45c9-ea57-945703743ea0"
      },
      "source": [
        "#Return random floats in [0.0, 1.0)\r\n",
        "np.random.random(size=4)"
      ],
      "execution_count": 133,
      "outputs": [
        {
          "output_type": "execute_result",
          "data": {
            "text/plain": [
              "array([0.9112749 , 0.97529231, 0.01875716, 0.97918572])"
            ]
          },
          "metadata": {
            "tags": []
          },
          "execution_count": 133
        }
      ]
    },
    {
      "cell_type": "code",
      "metadata": {
        "colab": {
          "base_uri": "https://localhost:8080/"
        },
        "id": "rcPLPG7W61rF",
        "outputId": "15066d2b-1344-4b1d-ec33-7cff4d8b718c"
      },
      "source": [
        "# Creating an array of the given shape with random samples from a uniform distribution over [0, 1)\r\n",
        "np.random.rand(2, 4)"
      ],
      "execution_count": 134,
      "outputs": [
        {
          "output_type": "execute_result",
          "data": {
            "text/plain": [
              "array([[0.96231042, 0.45147075, 0.90787864, 0.4775338 ],\n",
              "       [0.89783386, 0.91179413, 0.96969119, 0.89025465]])"
            ]
          },
          "metadata": {
            "tags": []
          },
          "execution_count": 134
        }
      ]
    },
    {
      "cell_type": "code",
      "metadata": {
        "colab": {
          "base_uri": "https://localhost:8080/"
        },
        "id": "XE18yQKG616D",
        "outputId": "f55172ab-6fc1-4c9d-be0d-023fd079e46e"
      },
      "source": [
        " # Returns random samples from a normal (Gaussian) distribution\r\n",
        "np.random.normal(size=2)"
      ],
      "execution_count": 135,
      "outputs": [
        {
          "output_type": "execute_result",
          "data": {
            "text/plain": [
              "array([-1.61299991,  0.38827792])"
            ]
          },
          "metadata": {
            "tags": []
          },
          "execution_count": 135
        }
      ]
    },
    {
      "cell_type": "markdown",
      "metadata": {
        "id": "cLIKE-2B8W4-"
      },
      "source": [
        "### Reshaping arrays"
      ]
    },
    {
      "cell_type": "code",
      "metadata": {
        "colab": {
          "base_uri": "https://localhost:8080/"
        },
        "id": "wiijAxZn62Ql",
        "outputId": "3b5ce29a-fdb9-4634-a6ea-72d983ce936f"
      },
      "source": [
        "b.reshape(3,1)"
      ],
      "execution_count": 136,
      "outputs": [
        {
          "output_type": "execute_result",
          "data": {
            "text/plain": [
              "array([[0],\n",
              "       [2],\n",
              "       [1]])"
            ]
          },
          "metadata": {
            "tags": []
          },
          "execution_count": 136
        }
      ]
    },
    {
      "cell_type": "markdown",
      "metadata": {
        "id": "q_Sh-5zv8xmX"
      },
      "source": [
        "### Zeros, Ones, empty, eye, identity"
      ]
    },
    {
      "cell_type": "markdown",
      "metadata": {
        "id": "JeMq24Cq9yrL"
      },
      "source": [
        "* `zeros` : Return a new array setting values to zero\r\n",
        "* `ones` : Return a new array setting values to one\r\n",
        "* `empty_like` : Return an empty array with shape and type of input\r\n",
        "* `full` : Return a new array of given shape filled with value\r\n",
        "---\r\n",
        "* `empty`, unlike `zeros`, does not set the array values to zero,\r\n",
        "and may therefore be marginally faster.  \r\n",
        "* it requires the user to manually set all the values in the array"
      ]
    },
    {
      "cell_type": "code",
      "metadata": {
        "colab": {
          "base_uri": "https://localhost:8080/"
        },
        "id": "60ewn_XS62XC",
        "outputId": "ff163197-5ab6-4018-93c7-b0bb50a9b9f9"
      },
      "source": [
        "# zeros(shape, dtype=float, order='C')\r\n",
        "np.zeros((2,2), int)"
      ],
      "execution_count": 137,
      "outputs": [
        {
          "output_type": "execute_result",
          "data": {
            "text/plain": [
              "array([[0, 0],\n",
              "       [0, 0]])"
            ]
          },
          "metadata": {
            "tags": []
          },
          "execution_count": 137
        }
      ]
    },
    {
      "cell_type": "code",
      "metadata": {
        "colab": {
          "base_uri": "https://localhost:8080/"
        },
        "id": "_2jD5rHi62dO",
        "outputId": "3e872a10-3571-420d-f10f-f0a2d86e8bfb"
      },
      "source": [
        "np.zeros(5)"
      ],
      "execution_count": 138,
      "outputs": [
        {
          "output_type": "execute_result",
          "data": {
            "text/plain": [
              "array([0., 0., 0., 0., 0.])"
            ]
          },
          "metadata": {
            "tags": []
          },
          "execution_count": 138
        }
      ]
    },
    {
      "cell_type": "code",
      "metadata": {
        "colab": {
          "base_uri": "https://localhost:8080/"
        },
        "id": "upPct4Vy9Pxr",
        "outputId": "5a25ff65-ccf1-4003-98c3-d3929b4d5bfb"
      },
      "source": [
        "# Similar to zeros\r\n",
        "np.ones((3,3),int)"
      ],
      "execution_count": 139,
      "outputs": [
        {
          "output_type": "execute_result",
          "data": {
            "text/plain": [
              "array([[1, 1, 1],\n",
              "       [1, 1, 1],\n",
              "       [1, 1, 1]])"
            ]
          },
          "metadata": {
            "tags": []
          },
          "execution_count": 139
        }
      ]
    },
    {
      "cell_type": "code",
      "metadata": {
        "colab": {
          "base_uri": "https://localhost:8080/"
        },
        "id": "cZ1bx7099P4Y",
        "outputId": "57a15381-64b7-4275-a423-959ef075bd77"
      },
      "source": [
        "np.empty(2)"
      ],
      "execution_count": 140,
      "outputs": [
        {
          "output_type": "execute_result",
          "data": {
            "text/plain": [
              "array([1.61299991, 0.38827792])"
            ]
          },
          "metadata": {
            "tags": []
          },
          "execution_count": 140
        }
      ]
    },
    {
      "cell_type": "code",
      "metadata": {
        "colab": {
          "base_uri": "https://localhost:8080/"
        },
        "id": "yw5xf1Ec9P_M",
        "outputId": "1faf2091-cbb4-4848-9612-de77284cbb71"
      },
      "source": [
        "# Returns an identity square array with ones on the main diagonal\r\n",
        "np.identity(3,int)"
      ],
      "execution_count": 141,
      "outputs": [
        {
          "output_type": "execute_result",
          "data": {
            "text/plain": [
              "array([[1, 0, 0],\n",
              "       [0, 1, 0],\n",
              "       [0, 0, 1]])"
            ]
          },
          "metadata": {
            "tags": []
          },
          "execution_count": 141
        }
      ]
    },
    {
      "cell_type": "code",
      "metadata": {
        "colab": {
          "base_uri": "https://localhost:8080/"
        },
        "id": "agrpBBhm9QFa",
        "outputId": "eb2c4a29-9465-4c96-d25d-e0b26117473f"
      },
      "source": [
        "# Returns a 2-D array with ones on the diagonal and zeros elsewhere\r\n",
        "np.eye(2,dtype=int)"
      ],
      "execution_count": 142,
      "outputs": [
        {
          "output_type": "execute_result",
          "data": {
            "text/plain": [
              "array([[1, 0],\n",
              "       [0, 1]])"
            ]
          },
          "metadata": {
            "tags": []
          },
          "execution_count": 142
        }
      ]
    },
    {
      "cell_type": "code",
      "metadata": {
        "colab": {
          "base_uri": "https://localhost:8080/"
        },
        "id": "EYwqA9-e9QPN",
        "outputId": "0720a837-110e-4d64-a68b-e3c55985595e"
      },
      "source": [
        "# Third argument k=0 by default; Positive integer means upper diagonal and negative means lower diagonal\r\n",
        "np.eye(3,4,1,int)"
      ],
      "execution_count": 143,
      "outputs": [
        {
          "output_type": "execute_result",
          "data": {
            "text/plain": [
              "array([[0, 1, 0, 0],\n",
              "       [0, 0, 1, 0],\n",
              "       [0, 0, 0, 1]])"
            ]
          },
          "metadata": {
            "tags": []
          },
          "execution_count": 143
        }
      ]
    },
    {
      "cell_type": "code",
      "metadata": {
        "colab": {
          "base_uri": "https://localhost:8080/"
        },
        "id": "QusOh5fB9Qky",
        "outputId": "2355f15d-8137-47b4-da87-53818e382e4d"
      },
      "source": [
        "np.eye(3,4,-1,int)"
      ],
      "execution_count": 144,
      "outputs": [
        {
          "output_type": "execute_result",
          "data": {
            "text/plain": [
              "array([[0, 0, 0, 0],\n",
              "       [1, 0, 0, 0],\n",
              "       [0, 1, 0, 0]])"
            ]
          },
          "metadata": {
            "tags": []
          },
          "execution_count": 144
        }
      ]
    },
    {
      "cell_type": "code",
      "metadata": {
        "colab": {
          "base_uri": "https://localhost:8080/"
        },
        "id": "oYtDicRk9QsI",
        "outputId": "472b378a-4296-464e-f73b-623847cf49f0"
      },
      "source": [
        "np.eye(5, k=3,dtype=int)"
      ],
      "execution_count": 145,
      "outputs": [
        {
          "output_type": "execute_result",
          "data": {
            "text/plain": [
              "array([[0, 0, 0, 1, 0],\n",
              "       [0, 0, 0, 0, 1],\n",
              "       [0, 0, 0, 0, 0],\n",
              "       [0, 0, 0, 0, 0],\n",
              "       [0, 0, 0, 0, 0]])"
            ]
          },
          "metadata": {
            "tags": []
          },
          "execution_count": 145
        }
      ]
    }
  ]
}